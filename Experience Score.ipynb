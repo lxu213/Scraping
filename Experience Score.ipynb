{
 "cells": [
  {
   "cell_type": "code",
   "execution_count": 81,
   "metadata": {
    "collapsed": true
   },
   "outputs": [],
   "source": [
    "from bs4 import BeautifulSoup as bs # For HTML parsing\n",
    "from selenium import webdriver #simulate chrome browser and user interactions\n",
    "from time import sleep # To prevent overwhelming the server between connections\n",
    "import urllib #python url library to make requests and receive responses returned from urls\n",
    "%matplotlib inline"
   ]
  },
  {
   "cell_type": "markdown",
   "metadata": {},
   "source": [
    "### Automation Example"
   ]
  },
  {
   "cell_type": "markdown",
   "metadata": {},
   "source": [
    "initiate first driver instance"
   ]
  },
  {
   "cell_type": "code",
   "execution_count": 82,
   "metadata": {
    "collapsed": false
   },
   "outputs": [],
   "source": [
    "driver = webdriver.Chrome(executable_path='./chromedriver')\n",
    "driver.get('https://www.twitter.com')"
   ]
  },
  {
   "cell_type": "code",
   "execution_count": 83,
   "metadata": {
    "collapsed": true
   },
   "outputs": [],
   "source": [
    "driver.find_element_by_link_text('Log in').click()"
   ]
  },
  {
   "cell_type": "code",
   "execution_count": 84,
   "metadata": {
    "collapsed": true
   },
   "outputs": [],
   "source": [
    "# inspect the sign-in/password and right click the gray box > Copy > Copy xpath\n",
    "\n",
    "login = driver.find_element_by_xpath('//*[@id=\"login-dialog-dialog\"]/div[2]/div[2]/div[2]/form/div[1]/input')\n",
    "login.send_keys('ruthbaderginsburg213@gmail.com')\n",
    "# login.clear()"
   ]
  },
  {
   "cell_type": "code",
   "execution_count": 85,
   "metadata": {
    "collapsed": true
   },
   "outputs": [],
   "source": [
    "password = driver.find_element_by_xpath('//*[@id=\"login-dialog-dialog\"]/div[2]/div[2]/div[2]/form/div[2]/input')\n",
    "password.send_keys('ruthie')"
   ]
  },
  {
   "cell_type": "code",
   "execution_count": 86,
   "metadata": {
    "collapsed": true
   },
   "outputs": [],
   "source": [
    "#driver.find_element_by_link_text('Log in').click()\n",
    "driver.find_element_by_xpath('//*[@id=\"login-dialog-dialog\"]/div[2]/div[2]/div[2]/form/input[1]').click()"
   ]
  },
  {
   "cell_type": "code",
   "execution_count": 93,
   "metadata": {
    "collapsed": true
   },
   "outputs": [],
   "source": [
    "search_query = driver.find_element_by_xpath('//*[@id=\"search-query\"]')\n",
    "search_query.send_keys('@realDonaldTrump')"
   ]
  },
  {
   "cell_type": "code",
   "execution_count": 94,
   "metadata": {
    "collapsed": false
   },
   "outputs": [],
   "source": [
    "driver.find_element_by_xpath('//*[@id=\"typeahead-item-4\"]').click()"
   ]
  },
  {
   "cell_type": "code",
   "execution_count": null,
   "metadata": {
    "collapsed": true
   },
   "outputs": [],
   "source": [
    "html = driver.page_source\n",
    "soup = bs(html, 'lxml')\n",
    "print soup\n",
    "\n",
    "print type(soup)\n",
    "print dir(soup)"
   ]
  },
  {
   "cell_type": "code",
   "execution_count": null,
   "metadata": {
    "collapsed": true
   },
   "outputs": [],
   "source": [
    "# for click in soup.findAll('div', { 'class' : 'dropdown-menu', 'class': 'is-autoCentered'})[1]:\n",
    "#     print click"
   ]
  },
  {
   "cell_type": "code",
   "execution_count": 131,
   "metadata": {
    "collapsed": false
   },
   "outputs": [],
   "source": [
    "# click more for drop-down menu\n",
    "driver.find_element_by_class_name('ProfileTweet-actionButton').click()\n"
   ]
  },
  {
   "cell_type": "code",
   "execution_count": 132,
   "metadata": {
    "collapsed": false
   },
   "outputs": [],
   "source": [
    "# click on \"report link\"\n",
    "driver.find_element_by_class_name('report-link').click()\n"
   ]
  },
  {
   "cell_type": "code",
   "execution_count": 135,
   "metadata": {
    "collapsed": true
   },
   "outputs": [],
   "source": [
    "# hop into modal\n",
    "driver.switch_to_frame('new-report-flow-frame')\n"
   ]
  },
  {
   "cell_type": "code",
   "execution_count": 127,
   "metadata": {
    "collapsed": true
   },
   "outputs": [],
   "source": [
    "# select third web-item: \"it's abusive or harmful\"\n",
    "driver.find_elements_by_class_name('web-item')[2].click()\n"
   ]
  },
  {
   "cell_type": "code",
   "execution_count": 134,
   "metadata": {
    "collapsed": false
   },
   "outputs": [
    {
     "ename": "TypeError",
     "evalue": "switch_to_window() takes exactly 2 arguments (1 given)",
     "output_type": "error",
     "traceback": [
      "\u001b[0;31m---------------------------------------------------------------------------\u001b[0m",
      "\u001b[0;31mTypeError\u001b[0m                                 Traceback (most recent call last)",
      "\u001b[0;32m<ipython-input-134-da1c18447d9b>\u001b[0m in \u001b[0;36m<module>\u001b[0;34m()\u001b[0m\n\u001b[0;32m----> 1\u001b[0;31m \u001b[0mdriver\u001b[0m\u001b[0;34m.\u001b[0m\u001b[0mswitch_to_window\u001b[0m\u001b[0;34m(\u001b[0m\u001b[0;34m)\u001b[0m\u001b[0;34m\u001b[0m\u001b[0m\n\u001b[0m\u001b[1;32m      2\u001b[0m \u001b[0;34m\u001b[0m\u001b[0m\n",
      "\u001b[0;31mTypeError\u001b[0m: switch_to_window() takes exactly 2 arguments (1 given)"
     ]
    }
   ],
   "source": [
    "driver.switch_to_window()\n",
    "\n",
    "# lea suggests figuring out a way to save the script url into a variable and running that\n",
    "<script src=\"//abs-0.twimg.com/safety/report_flow.6e2d6b68f81751cf35609e2da7e46880e1de0169.js\" type=\"text/javascript\"></script>"
   ]
  },
  {
   "cell_type": "code",
   "execution_count": 136,
   "metadata": {
    "collapsed": false
   },
   "outputs": [
    {
     "name": "stdout",
     "output_type": "stream",
     "text": [
      "<!DOCTYPE html>\n",
      "<html xmlns=\"http://www.w3.org/1999/xhtml\"><head>\n",
      "<meta charset=\"utf-8\"/>\n",
      "<title>Describe the issue</title>\n",
      "<link href=\"https://abs.twimg.com/favicons/favicon.ico\" rel=\"shortcut icon\" type=\"image/x-icon\"/>\n",
      "<link href=\"https://abs-0.twimg.com/safety/report_flow_web.132869f3896150c452e497ddb77be78dc260c41f.css\" rel=\"stylesheet\"/>\n",
      "<meta content=\"initial-scale=1, maximum-scale=1\" name=\"viewport\"/>\n",
      "</head>\n",
      "<body class=\"ResponsiveLayout\">\n",
      "<div class=\"PageContainer\">\n",
      "<div class=\"web-reporting-flow\">\n",
      "<div class=\"reportFlowHeader-web\">\n",
      "<div class=\"list-explanation\">\n",
      "    Help us understand the problem. What is going on with this Tweet?\n",
      "  </div>\n",
      "</div>\n",
      "<form action=\"/i/safety/report_story\" class=\"list-view next-view-enabled\" id=\"report_webview_form\" method=\"GET\">\n",
      "<input name=\"authenticity_token\" type=\"hidden\" value=\"75802ad4b1a3048f98cab66a0965d8dcaa3a4d6f\"/>\n",
      "<input name=\"context\" type=\"hidden\" value=\"eyJjbGllbnRfcmVmZXJlciI6Ii8iLCJzb3VyY2UiOiJyZXBvcnR0d2VldCIsInJlcG9ydGVkX3VzZXJfaWQiOjI1MDczODc3LCJyZXBvcnRlZF90d2VldF9pZCI6ODc5NDA1MjIzMzk5MzUwMjcyLCJwcm9maWxlX2lkIjoyNTA3Mzg3NywiY2xpZW50X2xvY2F0aW9uIjoicHJvZmlsZTpwcm9maWxlOnR3ZWV0In0%3D\"/>\n",
      "<input name=\"next_view\" type=\"hidden\" value=\"\"/>\n",
      "<div class=\"web-item\">\n",
      "<label tabindex=\"0\">\n",
      "<input checked=\"\" name=\"report_type\" type=\"radio\" value=\"annoying\"/>\n",
      "      I'm not interested in this Tweet \n",
      "    </label>\n",
      "</div>\n",
      "<div class=\"web-item\">\n",
      "<label tabindex=\"0\">\n",
      "<input name=\"report_type\" type=\"radio\" value=\"spam\"/>\n",
      "      It's spam \n",
      "    </label>\n",
      "</div>\n",
      "<div class=\"web-item\">\n",
      "<label tabindex=\"0\">\n",
      "<input data-next-view=\"report_abuse\" name=\"report_type\" type=\"radio\" value=\"abuse\"/>\n",
      "      It's abusive or harmful \n",
      "    </label>\n",
      "</div>\n",
      "</form>\n",
      "<div class=\"page-bottom\">\n",
      "<p class=\"small-text\"><a class=\"twitter-rules-link\" href=\"https://support.twitter.com/articles/15789#specific-violations\" target=\"_blank\">Learn more</a> about reporting violations of our rules.</p>\n",
      "</div>\n",
      "</div>\n",
      "<input id=\"report_referrer\" type=\"hidden\" value=\"https://twitter.com\"/>\n",
      "</div>\n",
      "<script src=\"//abs-0.twimg.com/safety/report_flow.6e2d6b68f81751cf35609e2da7e46880e1de0169.js\" type=\"text/javascript\"></script>\n",
      "</body></html>\n"
     ]
    }
   ],
   "source": [
    "html = driver.page_source\n",
    "soup = bs(html, 'lxml')\n",
    "print soup"
   ]
  }
 ],
 "metadata": {
  "anaconda-cloud": {},
  "kernelspec": {
   "display_name": "Python 2",
   "language": "python",
   "name": "python2"
  },
  "language_info": {
   "codemirror_mode": {
    "name": "ipython",
    "version": 2
   },
   "file_extension": ".py",
   "mimetype": "text/x-python",
   "name": "python",
   "nbconvert_exporter": "python",
   "pygments_lexer": "ipython2",
   "version": "2.7.13"
  }
 },
 "nbformat": 4,
 "nbformat_minor": 1
}

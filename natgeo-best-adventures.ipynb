{
 "cells": [
  {
   "cell_type": "markdown",
   "metadata": {},
   "source": [
    "### Scrape National Geographic Best American Adventures\n",
    "Input into .csv for easier processing and selecting of adventures by state."
   ]
  },
  {
   "cell_type": "code",
   "execution_count": 1,
   "metadata": {
    "collapsed": true
   },
   "outputs": [],
   "source": [
    "import pandas as pd\n",
    "import requests\n",
    "from bs4 import BeautifulSoup as bs"
   ]
  },
  {
   "cell_type": "markdown",
   "metadata": {},
   "source": [
    "Get request from natgeo."
   ]
  },
  {
   "cell_type": "code",
   "execution_count": 2,
   "metadata": {
    "collapsed": false
   },
   "outputs": [],
   "source": [
    "url = \"http://www.nationalgeographic.com/adventure/features/best-trips/best-american-adventures/trips-2009/\"\n",
    "request  = requests.get(url)"
   ]
  },
  {
   "cell_type": "code",
   "execution_count": 3,
   "metadata": {
    "collapsed": true
   },
   "outputs": [],
   "source": [
    "html = request.text\n",
    "soup = bs(html, 'lxml')"
   ]
  },
  {
   "cell_type": "markdown",
   "metadata": {},
   "source": [
    "Only pull parts of html that include adventure information."
   ]
  },
  {
   "cell_type": "code",
   "execution_count": 4,
   "metadata": {
    "collapsed": true
   },
   "outputs": [],
   "source": [
    "for script in soup(['script', 'style', 'head', 'svg']):\n",
    "    script.extract()"
   ]
  },
  {
   "cell_type": "code",
   "execution_count": 5,
   "metadata": {
    "collapsed": false
   },
   "outputs": [],
   "source": [
    "div_set = soup.find_all('div', {'class': 'parbase', 'class': 'smartbody', 'class': 'section', 'class': 'text'})"
   ]
  },
  {
   "cell_type": "code",
   "execution_count": 7,
   "metadata": {
    "collapsed": false
   },
   "outputs": [],
   "source": [
    "a=[]\n",
    "for i in range(len(div_set)):\n",
    "    item = div_set[i].getText(separator=u' ').encode('utf-8')\n",
    "    item = item.decode('unicode_escape').encode('ascii', 'ignore')     # removes non-ASCII encodings\n",
    "    a.append(item.replace('\\n',''))"
   ]
  },
  {
   "cell_type": "code",
   "execution_count": null,
   "metadata": {
    "collapsed": true
   },
   "outputs": [],
   "source": [
    "# print title of each adventure\n",
    "for adventure in soup.findAll(\"div\", { \"class\" : \"parbase smartbody section text\"}):\n",
    "    string = str(adventure.find('b'))\n",
    "    string = string.replace('<b>', '')\n",
    "    string = string.replace('</b>', '')\n",
    "    print string.split(', ')\n",
    "    \n",
    "for adventure in soup.findAll(\"div\", { \"class\" : \"parbase smartbody section text\"}):\n",
    "    print adventure.find('p')    "
   ]
  },
  {
   "cell_type": "code",
   "execution_count": null,
   "metadata": {
    "collapsed": true
   },
   "outputs": [],
   "source": [
    "d = {}\n",
    "identifier = 0\n",
    "for i in range(len(a)):\n",
    "    print a[i]\n",
    "    identifier +=1\n",
    "    print identifier%2"
   ]
  },
  {
   "cell_type": "code",
   "execution_count": 8,
   "metadata": {
    "collapsed": false
   },
   "outputs": [
    {
     "name": "stdout",
     "output_type": "stream",
     "text": [
      "\n",
      "\n",
      " Heli-Ski the Chugach Mountains, Alaska\n",
      "\n",
      "\n",
      " In the Chugach Mountains, first descents are still routine, and nameless peaks promise more skiable terrain than even the biggest resorts in the Lower 48. Valdez serves as base for five of the seven heli-ski outfits that work the Chugach, but only Points North takes off from Cordova. Its clients gain nearly exclusive access to a 2,000-square-mile (5,180-square-kilometer) chunk of mountains, then retreat to the Points North Orca Adventure Lodge, a converted cannery. Points North Heli-Adventures, Inc. ( www.alaskaheliski.com )\n",
      "\n",
      "\n",
      " Complete a NOLS Semester, Nationwide\n",
      "\n",
      "\n",
      " Its humbling and invaluable to hone your wilderness skills where they count mostin Americas wildest state. On a NOLS Semester in Alaska, you backpack the Talkeetna Mountains, traverse huge crevasse-riddled glaciers, and paddle the open ocean of Prince William Sound, learning, as they say at NOLS, to thrive, not just survive. National Outdoor Leadership School ( www.nols.edu )\n",
      "\n",
      "\n",
      " Kayak the Na Pali Coast, Hawaii\n",
      "\n",
      "\n",
      " Kauais Na Pali Coast, 17 miles (27 kilometers) of cliffs, caves, and beaches, is the most stunning paddling trip in the country, if not the world. While doable in a (very) long day, its best to split it in two, with an overnight in the shadow of 3,000-foot cliffs. Go guided on day one, camp on Kalalau Beach, then paddle on your own to the beach at Mililii and, finally, the takeout at Polihale Beach. Na Pali Kayak ( www.napalikayak.com )\n",
      "\n",
      "\n",
      " Ski the Birkebeiner, Wisconsin\n",
      "\n",
      "\n",
      " When 7,000 cross-country skiers convene at the start of the Birrkie, the largest, most vaunted ski race in the country, its a maelstrom of adrenaline, camaraderie, knit caps, and Northwoods spectacle. Rank amateurs go toe-to-toe with the worlds elite to gun for a personal best or a piece of the $20,000 purse. The 50K course is gorgeous anytime, but the race is worth planning your life around. American Birkebeiner ( www.birkie.com )\n",
      "\n",
      "\n",
      " Hike Buckskin Gulch, Utah\n",
      "\n",
      "\n",
      " Its a toss-up whether the Narrows in Zion National Park of Buckskin Gulch in Grand Staircase-Escalante National Monument is the best nontechnical, multiday slot canyon hike in the world. Beyond debate is the fact that the Buckskin Gulch-Paria Canyon route is nearly thrice as longmeaning more time immersed in a swirling red-rock chasm at points no more than six feet (two meters) wide and 500 feet (152 meters) high. Bureau of Land Management ( www.blm.gov/wo/st/en.html )\n",
      "\n",
      "\n",
      " Bike From Durango to Moab, Colorado to Utah\n",
      "\n",
      "\n",
      " Connect the dots (six spare but well-outfitted huts spaced approximately 35 miles/56 kilometers apart) on a weeklong mountain bike expedition that starts in the jagged San Juan Mountains and ends in Moab. Harder and more isolated than its twin, the venerable Telluride-Moab ride, the 215-mile (346-kilometer) Durango-Moab route presents navigational and bike-handling challenges and a sense of unfettered freedom. San Juan Hut Systems ( www.sanjuanhuts.com )\n",
      "\n",
      "\n",
      " Transect the Olympic, Washington\n",
      "\n",
      "\n",
      " An abundance of grit and manly vim was requisite for a spot on the first transect of the Olympic Peninsula, the Press Expedition of 1889. The groups vim got tested; they did it in the dead of winter. Trace their route in a saner season (we recommend summer) and youll cross the interior of Olympic National Park in a week on trails that thread the lush territory between Mount Olympus and Hurricane Ridge.\n",
      "\n",
      "\n",
      " Climb Ouray, Colorado\n",
      "\n",
      "\n",
      " Thanks to the strategic placement of a few hundred showerheads in the San Juan Mountains, the Ouray Ice Park is the most condensed collection of ice routes in the world (nearly 200). Head to Schoolroom for a feast of easy-access, top-roped hundred-footers, or to South Park for dozens moreall within 15 minutes walk of a warm meal and a warm bed in Ouray. Ouray Ice Park ( www.ourayicepark.com )\n",
      "\n",
      "\n",
      " Ski Scar Face, Colorado\n",
      "\n",
      "\n",
      " Fewer than ten skiers a year attempt Scar Face at Silverton Mountain, the nastiest run at Americas highest, steepest, and funkiest ski resort. This is a good thing. With its blind entry, impossibly narrow chutes, deadly cliff bands to sidestep, and a pitch that pushes 60 degrees over 2,200 vertical feet (671 vertical meters), Scar Face is more a prediction than a description. Silverton Mountain ( www.silvertonmountain.com )\n",
      "\n",
      "\n",
      " Hike Half Dome, California\n",
      "\n",
      "\n",
      " The countrys ultimate day hike: a 17.2-mile (27.7-kilometer) round-trip to the top of the Yosemite icon, gaining 4,800 feet (1,463 meters) and delivering a ferocious thigh burn. Start on the Mist Trail (a portion of the JMT), pass by Vernal and Nevada Falls en route to alpine country, and inch your way up to the domes high-friction granite for a glorious view of Yosemite Valley and the High Sierra. Yosemite National Park ( www.nps.gov/yose )\n",
      "\n",
      "\n",
      " Scale Red-Rock Towers, Utah\n",
      "\n",
      "\n",
      " Few climbs anywhere match the heady sensation of topping out on Castleton Tower in Castle Valley. You stand alone on a sheer parapet of red Wingate sandstone, 450 feet (137 meters) tall, but as it crowns on a talus slope, youre nearly a thousand feet (305 meters) above the desert floor and the Colorado River, your 360-degree view dominated by the LaSalle Mountains on the southwestern horizon. Moab Desert Adventures ( www.moabdesertadventures.com )\n",
      "\n",
      "\n",
      " Fight Wildfires, Nationwide\n",
      "\n",
      "\n",
      " The right to fight on the front lines of the countrys most dangerous blazes with a hotshot crew doesnt come easy. Bust your hump in guard school, then spend a couple of bone-wearying summers proving your mettle. If a hotshot supe thinks you can cut it, you might tuck away 30 grand in a season and save some trees in the process. USDA Fire & Aviation Management ( www.fs.fed.us/fire/people/employment )\n",
      "\n",
      "\n",
      " Hike the Roan Highlands, Tennessee, North Carolina\n",
      "\n",
      "\n",
      " Surprise: The finest mountain scenery is to be found on the southern half of the Appalachian Trail isnt Great Smoky Mountains National Park. Its north along the Tennessee-North Carolina border in the Roan Highlands. On the 48-mile (77-kilometer) section between the Nolichucky River and U.S. 19E, the AT rarely dips below tree line. Appalachian Trail Conservancy ( www.appalachiantrail.org )\n",
      "\n",
      "\n",
      " Run the TransRockies, Colorado\n",
      "\n",
      "\n",
      " The TransRockies six-day stage race from Buena Vista to Beaver Creek is the most spectacular and difficult trail run in the country. For pros, theres a purse ($20K). For the rest of us, theres a boast-worthy vacation: 113 miles (182 kilometers) and 18,000 feet (5,486 meters) of elevation gain, all above 7,500 feet (2,286 meters) amid grandiose ruggedness. Fore-Tex TransRockies Run; August 23-28 ( www.transrockies.com )\n",
      "\n",
      "\n",
      " Hike the Traverse, New Hampshire\n",
      "\n",
      "\n",
      " The high-flying transect of the Presidential Range should be on every hikers short list. Much of the 24-mile (39-kilometer) route cruises above timberline in the tundra zone, tagging 11 peaks along the way, including Mount Washington. On clear days, expect views that can stretch from the Atlantic Ocean into Canada. Three conveniently spaced huts ease the way. Appalachian Mountain Club ( www.outdoors.org/lodging/huts )\n",
      "\n",
      "\n",
      " Hike the Colorado Trail, Colorado\n",
      "\n",
      "\n",
      " If trekking 485 miles (781 kilometers) is not an option, focus on the trails best 68 miles (109 kilometers) between San Luis Pass and Molas Pass. ( www.coloradotrailhiking.com )\n",
      "\n",
      "\n",
      " Snowkite Camas Valley, Oregon\n",
      "\n",
      "\n",
      " The hundred square miles (259 square kilometers) of peaks and valleys near Soldier Mountain Ranch may be the countrys best terrain park.\n",
      "\n",
      "\n",
      " Hike the Winds, Wyoming\n",
      "\n",
      "\n",
      " For Wyomings highest mountains and best climbing, hike five days and 42 miles (68 kilometers) from the Big Sandy Trailhead into Wind River solitude.\n",
      "\n",
      "\n",
      " Bike the Death Ride, California\n",
      "\n",
      "\n",
      " The countrys most demanding road race: 129 miles (208 kilometers) and 15,000 feet (24,140 meters) of elevation gain. No wonder its called the Death Ride. ( www.deathride.com )\n",
      "\n",
      "\n",
      " Hike Glacier Peak, Washington\n",
      "\n",
      "\n",
      " The Pac Northwests wilderness gem: a four-day backpacking loop around Glacier Peak, 10,541 feet (3,213 meters) of rock ribs and glaciers.\n",
      "\n",
      "\n",
      " Tree-Climb Chilkat, Alaska\n",
      "\n",
      "\n",
      " Ascend 250-foot (76-meter) tall spruces smack in the middle of the worlds highest concentration of bald eagles. ( www.alaskamountainguides.com )\n",
      "\n",
      "\n",
      " Ski Tuckerman Ravine, New Hampshire\n",
      "\n",
      "\n",
      " Nail the 55-degree headwall at Tucks for bragging rights and a cheer from carnage-hungry spectators (March to June).\n",
      "\n",
      "\n",
      " Cave an Island, Puerto Rico\n",
      "\n",
      "\n",
      " The countrys best caving is offshore. Ride the wild Tanam River through Puerto Ricos limestone core. \n",
      "\n",
      "\n",
      " Climb Granite Peak, Montana\n",
      "\n",
      "\n",
      " Rivaled only by Denali, Hood, and Rainier for challenge, 12,799-foot (3,901-meter) Granite Peak is the contiguous U.S.s premier wilderness summit.\n",
      "\n",
      "\n",
      " Kiteboard the Keys, Florida\n",
      "\n",
      "\n",
      " Flats surrounding low mangrove-rimmed islands near Key West make for the countrys best kiting conditions. ( www.thekitehouse.com )\n",
      "\n",
      "\n",
      " Raft the Green River, Utah\n",
      "\n",
      "\n",
      " One of the most dramatic shot runs in the U.S. Four days of Class III through Dinosaur National Monuments Gates of Lodore.\n",
      "\n",
      "\n",
      " Climb Red River Gorge, Kentucky\n",
      "\n",
      "\n",
      " Sport climbings motherlode, the gorge, has 1,892 routes and 145 distinct sandstone crags.\n",
      "\n",
      "\n",
      " Raft the Gauley River, West Virginia\n",
      "\n",
      "\n",
      " A 26-mile (42-kilometer) torrent of a hundred rapids. Raft the expert-only upper on day one, then take on the lower. ( www.class-vi.com )\n",
      "\n",
      "\n",
      " Bike the Maah Daah Hey, North Dakota\n",
      "\n",
      "\n",
      " Ninety-six (soon to be 176) miles (154, soon to be 283 kilometers) of singletrack in the same Badlands that toughened Teddy Roosevelt. ( www.dakotacyclery.com )\n",
      "\n",
      "\n",
      " Hike the Bob Marshall, Montana\n",
      "\n",
      "\n",
      " Trek the Swan Range inside Flathead National Forest for the best of Montana: bear grass blooms, pothole lakes, and giant vistas.\n",
      "\n",
      "\n",
      " Paddle Santa Cruz Island, California\n",
      "\n",
      "\n",
      " Kayak directly into the worlds largest sea-cavesmore than a hundred pierce the 300-foot (91-meter) cliffs. ( www.islandpackers.com )\n",
      "\n",
      "\n",
      " Hike the Muliwai Trail, Hawaii\n",
      "\n",
      "\n",
      " The states toughest hike is also its most rewarding: 18 miles (29 kilometers) linking valleys and a lonely black-sand beach on the Big Island. ( www.hawaiitrails.org )\n",
      "\n",
      "\n",
      " Dogsled the Boundary Waters, Minnesota\n",
      "\n",
      "\n",
      " Learn to drive a team over five days in the biggest wilderness east of the Rockiesi.e., Will Stegers backyard. ( www.dogsledding.com )\n",
      "\n",
      "\n",
      " Ride Monument Valley, Arizona\n",
      "\n",
      "\n",
      " The Southwests most iconic journey: a week on horseback through Navajo Nations sacred sights. ( www.ridingtours.com )\n",
      "\n",
      "\n",
      " Hike the Salmon, Idaho\n",
      "\n",
      "\n",
      " When low water sends 10,000 river rats home, hike the 70-mile (113-kilometer) Middle Fork Trail through the largest wilderness in the Lower 48. ( www.mtsobek.com )\n",
      "\n",
      "\n",
      " Kayak the Maine Island Trail, Maine\n",
      "\n",
      "\n",
      " The Easts top kayaking destination: 4,600 islands, 375 miles (604 kilometers) of trail. Spend two open-water days between Stonington and Merchant Row.\n",
      "\n",
      "\n",
      " Paddle the Everglades, Florida\n",
      "\n",
      "\n",
      " Our rarest ecosystem is also the most threatened. See it in short order. Guides will drop you halfway down the 99-mile (159-kilometer) Wilderness Waterway.\n",
      "\n",
      "\n",
      " Fly-Fish the Pecos, New Mexico\n",
      "\n",
      "\n",
      " Theres a magical stretch of the Pecos along Route 63. Dont fish there. Hike away from the hip waders into Pecos Canyon.\n",
      "\n",
      "\n",
      " Sail the Manitous, Michigan\n",
      "\n",
      "\n",
      " For the first-time captains, sailing out of Traverse City is straightforward, though the sceneryCaribbean-hued waters, deserted islandscan be disorienting. ( www.bbyc.com )\n",
      "\n",
      "\n",
      " Four-Wheel the Steens, Michigan\n",
      "\n",
      "\n",
      " The 4x4 Steens Mountain Backcountry Byway traverses an encyclopedia of geographies: marshes, alpine highlands, and salt pans.\n",
      "\n",
      "\n",
      " Get exclusive updates, insider tips, and special discounts on travel and more.  Sign Up Now \n",
      "\n",
      "\n",
      "  \n",
      "\n",
      "\n",
      " Expeditions  Unique Lodges  \n"
     ]
    }
   ],
   "source": [
    "for i in range(len(a)):\n",
    "    print '\\n'\n",
    "    print a[i]"
   ]
  }
 ],
 "metadata": {
  "kernelspec": {
   "display_name": "Python 2",
   "language": "python",
   "name": "python2"
  },
  "language_info": {
   "codemirror_mode": {
    "name": "ipython",
    "version": 2
   },
   "file_extension": ".py",
   "mimetype": "text/x-python",
   "name": "python",
   "nbconvert_exporter": "python",
   "pygments_lexer": "ipython2",
   "version": "2.7.13"
  }
 },
 "nbformat": 4,
 "nbformat_minor": 2
}

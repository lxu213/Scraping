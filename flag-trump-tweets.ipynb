{
 "cells": [
  {
   "cell_type": "markdown",
   "metadata": {},
   "source": [
    "### Scrape Twitter and Automate Flagging\n",
    "\n",
    "Automate the flagging of Donald Trump's tweets as abusive and harmful content."
   ]
  },
  {
   "cell_type": "code",
   "execution_count": null,
   "metadata": {
    "collapsed": true
   },
   "outputs": [],
   "source": [
    "from bs4 import BeautifulSoup as bs # For HTML parsing\n",
    "from selenium import webdriver #simulate chrome browser and user interactions\n",
    "from time import sleep # To prevent overwhelming the server between connections\n",
    "import urllib #python url library to make requests and receive responses returned from urls\n",
    "%matplotlib inline"
   ]
  },
  {
   "cell_type": "markdown",
   "metadata": {},
   "source": [
    "Initiate first driver instance"
   ]
  },
  {
   "cell_type": "code",
   "execution_count": 82,
   "metadata": {
    "collapsed": false
   },
   "outputs": [],
   "source": [
    "driver = webdriver.Chrome(executable_path='./chromedriver')\n",
    "driver.get('https://www.twitter.com')"
   ]
  },
  {
   "cell_type": "code",
   "execution_count": 83,
   "metadata": {
    "collapsed": true
   },
   "outputs": [],
   "source": [
    "driver.find_element_by_link_text('Log in').click()"
   ]
  },
  {
   "cell_type": "markdown",
   "metadata": {},
   "source": [
    "Inspect the sign-in/password. Right click the gray box > Copy > Copy xpath\n"
   ]
  },
  {
   "cell_type": "code",
   "execution_count": 84,
   "metadata": {
    "collapsed": true
   },
   "outputs": [],
   "source": [
    "login = driver.find_element_by_xpath('//*[@id=\"login-dialog-dialog\"]/div[2]/div[2]/div[2]/form/div[1]/input')\n",
    "login.send_keys('')     # enter email\n",
    "# login.clear()"
   ]
  },
  {
   "cell_type": "code",
   "execution_count": 85,
   "metadata": {
    "collapsed": true
   },
   "outputs": [],
   "source": [
    "password = driver.find_element_by_xpath('//*[@id=\"login-dialog-dialog\"]/div[2]/div[2]/div[2]/form/div[2]/input')\n",
    "password.send_keys('')  # enter password"
   ]
  },
  {
   "cell_type": "code",
   "execution_count": 86,
   "metadata": {
    "collapsed": true
   },
   "outputs": [],
   "source": [
    "#driver.find_element_by_link_text('Log in').click()\n",
    "driver.find_element_by_xpath('//*[@id=\"login-dialog-dialog\"]/div[2]/div[2]/div[2]/form/input[1]').click()"
   ]
  },
  {
   "cell_type": "markdown",
   "metadata": {},
   "source": [
    "Go to @realDonaldTrump twitter page"
   ]
  },
  {
   "cell_type": "code",
   "execution_count": 93,
   "metadata": {
    "collapsed": true
   },
   "outputs": [],
   "source": [
    "search_query = driver.find_element_by_xpath('//*[@id=\"search-query\"]')\n",
    "search_query.send_keys('@realDonaldTrump')"
   ]
  },
  {
   "cell_type": "code",
   "execution_count": 94,
   "metadata": {
    "collapsed": false
   },
   "outputs": [],
   "source": [
    "driver.find_element_by_xpath('//*[@id=\"typeahead-item-4\"]').click()"
   ]
  },
  {
   "cell_type": "code",
   "execution_count": null,
   "metadata": {
    "collapsed": true
   },
   "outputs": [],
   "source": [
    "html = driver.page_source\n",
    "soup = bs(html, 'lxml')\n",
    "print soup\n",
    "\n",
    "print type(soup)\n",
    "print dir(soup)"
   ]
  },
  {
   "cell_type": "code",
   "execution_count": null,
   "metadata": {
    "collapsed": true
   },
   "outputs": [],
   "source": [
    "# for click in soup.findAll('div', { 'class' : 'dropdown-menu', 'class': 'is-autoCentered'})[1]:\n",
    "#     print click"
   ]
  },
  {
   "cell_type": "markdown",
   "metadata": {},
   "source": [
    "Enter drop-down menu for flagging options."
   ]
  },
  {
   "cell_type": "code",
   "execution_count": 131,
   "metadata": {
    "collapsed": false
   },
   "outputs": [],
   "source": [
    "# click more for drop-down menu\n",
    "driver.find_element_by_class_name('ProfileTweet-actionButton').click()"
   ]
  },
  {
   "cell_type": "code",
   "execution_count": 132,
   "metadata": {
    "collapsed": false
   },
   "outputs": [],
   "source": [
    "# click on \"report link\"\n",
    "driver.find_element_by_class_name('report-link').click()"
   ]
  },
  {
   "cell_type": "code",
   "execution_count": 135,
   "metadata": {
    "collapsed": true
   },
   "outputs": [],
   "source": [
    "# hop into modal\n",
    "driver.switch_to_frame('new-report-flow-frame')"
   ]
  },
  {
   "cell_type": "markdown",
   "metadata": {},
   "source": [
    "Select \"abusive or harmful.\""
   ]
  },
  {
   "cell_type": "code",
   "execution_count": 127,
   "metadata": {
    "collapsed": true
   },
   "outputs": [],
   "source": [
    "# select third web-item: \"it's abusive or harmful\"\n",
    "driver.find_elements_by_class_name('web-item')[2].click()"
   ]
  },
  {
   "cell_type": "code",
   "execution_count": null,
   "metadata": {
    "collapsed": true
   },
   "outputs": [],
   "source": [
    "# modal is hidden - twitter has made it difficult to automate flagging, obviously.\n",
    "driver.switch_to_window()\n",
    "\n",
    "# script url into a variable and running that\n",
    "<script src=\"//abs-0.twimg.com/safety/report_flow.6e2d6b68f81751cf35609e2da7e46880e1de0169.js\" type=\"text/javascript\"></script>"
   ]
  },
  {
   "cell_type": "code",
   "execution_count": null,
   "metadata": {
    "collapsed": true
   },
   "outputs": [],
   "source": [
    "html = driver.page_source\n",
    "soup = bs(html, 'lxml')"
   ]
  }
 ],
 "metadata": {
  "anaconda-cloud": {},
  "kernelspec": {
   "display_name": "Python 2",
   "language": "python",
   "name": "python2"
  },
  "language_info": {
   "codemirror_mode": {
    "name": "ipython",
    "version": 2
   },
   "file_extension": ".py",
   "mimetype": "text/x-python",
   "name": "python",
   "nbconvert_exporter": "python",
   "pygments_lexer": "ipython2",
   "version": "2.7.13"
  }
 },
 "nbformat": 4,
 "nbformat_minor": 1
}
